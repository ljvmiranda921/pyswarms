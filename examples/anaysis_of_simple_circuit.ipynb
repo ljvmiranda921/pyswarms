{
 "cells": [
  {
   "cell_type": "markdown",
   "metadata": {},
   "source": [
    "# Analysing a Simple Circuit using Paricle Swarm Optimzation    ==============================\n",
    "\n",
    "In this example, we are going to use the `pyswarms` library to analyse a simple circuit by treating it as an optimization problem.The goal of the analysis of the circuit is to find out the current in the circuit.We will use the `pyswarms` library to find an *optimal* solution from a set of candidate solutions."
   ]
  },
  {
   "cell_type": "code",
   "execution_count": 3,
   "metadata": {},
   "outputs": [],
   "source": [
    "import sys\n",
    "# Change directory to access the pyswarms module\n",
    "sys.path.append('../')"
   ]
  },
  {
   "cell_type": "code",
   "execution_count": 4,
   "metadata": {},
   "outputs": [
    {
     "name": "stdout",
     "output_type": "stream",
     "text": [
      "Running on Python version: 3.6.5 (default, Apr  1 2018, 05:46:30) \n",
      "[GCC 7.3.0]\n"
     ]
    }
   ],
   "source": [
    "print('Running on Python version: {}'.format(sys.version))"
   ]
  },
  {
   "cell_type": "code",
   "execution_count": 5,
   "metadata": {},
   "outputs": [],
   "source": [
    "# Import modules\n",
    "import numpy as np\n",
    "\n",
    "# Import PySwarms\n",
    "import pyswarms as ps\n",
    "from pyswarms.backend.topology import Pyramid\n",
    "\n",
    "import math\n",
    "\n",
    "# Some more magic so that the notebook will reload external python modules;\n",
    "# see http://stackoverflow.com/questions/1907993/autoreload-of-modules-in-ipython\n",
    "%load_ext autoreload\n",
    "%autoreload 2"
   ]
  },
  {
   "cell_type": "markdown",
   "metadata": {},
   "source": [
    "# Introduction\n",
    "\n",
    "We will be analysing a Diode-Resistor Circuit in this tutorial.This type of circuit ensures that current would only flow in the direction of the diode's arrow through the resistor(and any load placed in parallel with the resistor).The diode only lets current to flow in one direction through it, namely the direction that it's triangle points. \n",
    "\n",
    "PSO algorithm has been used in various fields of electrical engineering for the aim of optimizing such as design of logical circuits, analog and filter design, integrated circuit design, Microwave circuit design etc.\n",
    "\n",
    "\n",
    "# Determination Of Cost Function                                                                                              \n",
    "![alt text](https://user-images.githubusercontent.com/39431903/43938822-29aaf9b8-9c66-11e8-8e54-01530db005c6.png \"CIRCUIT\")\n",
    "\n",
    "We have used Shockley equation for this tutorial;\n",
    "\n",
    "<a href=\"https://www.codecogs.com/eqnedit.php?latex=I&space;=&space;I_s&space;e^{\\frac{v_D}{v_T}}\" target=\"_blank\"><img src=\"https://latex.codecogs.com/gif.latex?I&space;=&space;I_s&space;e^{\\frac{v_D}{v_T}}\" title=\"I = I_s e^{\\frac{v_D}{v_T}}\" /></a>\n",
    "\n",
    "We will simplify the previous equation to get value of diode voltage:\n",
    "\n",
    "<img src=\"https://latex.codecogs.com/gif.latex?v_D&space;=&space;v_T&space;\\log{\\left&space;|\\frac{I}{I_s}\\right&space;|}\" title=\"v_D = v_T \\log{\\left |\\frac{I}{I_s}\\right |}\" />\n",
    "\n",
    "Using the Kirchoff voltage law we get:\n",
    "\n",
    "![alt text](https://latex.codecogs.com/gif.latex?U&space;=&space;v_D&space;&plus;&space;v_R)\n",
    "\n",
    "Now we will restructure this equation to get the value of our cost function for the optimization:\n",
    "\n",
    "![alt text](https://latex.codecogs.com/gif.latex?c&space;=&space;\\left&space;|U-v_D-v_R\\right&space;|)\n",
    "\n",
    "The absolute value is necessary because we don't want any negative currents.\n",
    "\n",
    "![alt text](https://latex.codecogs.com/gif.latex?c&space;=&space;\\left&space;|&space;U&space;-&space;v_T&space;\\log{\\left&space;|&space;\\frac{I}{I_s}&space;\\right&space;|}&space;-&space;RI&space;\\right&space;|)\n",
    "\n",
    "Hence, diode current is the parameter we want to optimise, \n",
    "For this tutorial we will take these values for our parameters:\n",
    "\n",
    ". U : 10V\n",
    "\n",
    ". Is : 9.4 pA\n",
    "\n",
    ". R : 100 Ohm\n",
    "\n",
    ". Vt : 25.3 mV\n",
    "\n",
    "Hence, after substituting the values of parameters and  further simplification the cost function will be reduced to: \n",
    "\n",
    "![alt text](https://latex.codecogs.com/gif.latex?c&space;=&space;\\left&space;|&space;9.24&space;-&space;0.069\\left&space;log{\\left&space;|&space;I&space;\\right&space;|}&space;-&space;100I&space;\\right|)\n",
    "    "
   ]
  },
  {
   "cell_type": "markdown",
   "metadata": {},
   "source": [
    "# Initialising The Swarm\n",
    "\n",
    "The main idea for PSO is that we set a swarm $\\mathbf{S}$ composed of particles $\\mathbf{P}_n$ into a search space in order to find the optimal solution. The movement of the swarm depends on the cognitive ($c_1$) and social ($c_2$) of all the particles. The cognitive component speaks of the particle's bias towards its personal best from its past experience (i.e., how attracted it is to its own best position). The social component controls how the particles are attracted to the best score found by the swarm (i.e., the global best). High $c_1$ paired with low $c_2$ values can often cause the swarm to stagnate. The inverse can cause the swarm to converge too fast, resulting in suboptimal solutions.\n",
    "\n",
    "We define our particle $\\mathbf{P}$ as:\n",
    "\n",
    "$$\\mathbf{P}\\,:=\\,\\mathbf{X}$$\n",
    "\n",
    "And the swarm as being composed of $N$ particles with certain positions at a timestep $t$:\n",
    "\n",
    "$$\\mathbf{S}_t\\,:=\\,[\\,\\mathbf{P}_1\\quad\\mathbf{P}_2\\quad ... \\quad\\mathbf{P}_N\\,]$$\n",
    "\n",
    "In this implementation, we designate $\\mathbf{P}_1$ as the initial configuration of the manipulator at the zero-position. This means that the angles are equal to 0 and the link offset is also zero. We then generate the $N-1$ particles using a uniform distribution which is controlled by the hyperparameter $\\epsilon$.\n",
    "\n",
    "# Finding The Global Optimum\n",
    "\n",
    "In order to find the global optimum, the swarm must be moved. This movement is then translated by an update of the current position given the swarm's velocity $\\mathbf{V}$. That is:\n",
    "\n",
    "$$\\mathbf{S}_{t+1} = \\mathbf{S}_t + \\mathbf{V}_{t+1}$$\n",
    "\n",
    "The velocity is then computed as follows:\n",
    "\n",
    "$$\\mathbf{V}_{t+1} = w\\mathbf{V}_t + c_1 r_1 (\\mathbf{p}_{best} - \\mathbf{p}) + c_2 r_2(\\mathbf{g}_{best} - \\mathbf{p})$$\n",
    "\n",
    "Where $r_1$ and $r_2$ denote random values in the intervall $[0,1]$, $\\mathbf{p}_{best}$ is the best and $\\mathbf{p}$ is the current personal position and $\\mathbf{g}_{best}$ is the best position of all the particles. Moreover, $w$ is the inertia weight that controls the \"memory\" of the swarm's previous position.\n",
    "\n",
    "# Preparation\n",
    "\n",
    "Let us now see how this works with the `pyswarms` library. We use the following cost function for its optimisation at different values of diode current: "
   ]
  },
  {
   "cell_type": "code",
   "execution_count": 6,
   "metadata": {},
   "outputs": [
    {
     "name": "stdout",
     "output_type": "stream",
     "text": [
      "CPU times: user 10 µs, sys: 0 ns, total: 10 µs\n",
      "Wall time: 13.8 µs\n"
     ]
    }
   ],
   "source": [
    "%%time\n",
    "\n",
    "def cost_func(I):\n",
    "    \"\"\"Method for definition of our cost function\n",
    "        Inputs:\n",
    "        --------\n",
    "        I : current flowing in the diode\n",
    "        \n",
    "        Returns:\n",
    "        ---------\n",
    "        cost: our cost function\n",
    "    \"\"\"\n",
    "    cost = abs(9.24 - (0.069 * (math.log(I, 10))) - (100 * I))\n",
    "    return cost\n",
    "\n",
    "def cost(cost_func):\n",
    "    \"\"\"A decorator for the cost function\n",
    "    This decorator allows the creation of much simpler cost functions. Instead of\n",
    "    writing a cost function that returns a shape of :code:`(n_particles, 0)` it enables\n",
    "    the usage of shorter and simpler cost functions that directly return the cost.\n",
    "    A simple example might be:\n",
    "     .. code-block:: python\n",
    "         import pyswarms\n",
    "         import numpy as np\n",
    "         @pyswarms.cost\n",
    "         def cost_func(x):\n",
    "            cost = np.abs(np.sum(x))\n",
    "            return cost\n",
    "    The decorator expects your cost function to use a d-dimensional array (where\n",
    "    d is the number of dimensions for the optimization) as and argument.\n",
    "    .. note::\n",
    "        Some :code:`numpy` functions return a :code:`np.ndarray` with single values in it.\n",
    "        Be aware of the fact that without unpacking the value the optimizer will raise\n",
    "        an exception.\n",
    "    Parameters\n",
    "    ----------\n",
    "    cost_func : callable\n",
    "        A callable object that can be used as cost function in the optimization\n",
    "        (must return a :code:`float` or an :code:`int`).\n",
    "    Returns\n",
    "    -------\n",
    "    cost_dec : callable\n",
    "        The vectorized output for all particles as defined by :code:`cost_func`\n",
    "    \"\"\"\n",
    "    def cost_dec(particles, **kwargs):\n",
    "        n_particles = particles.shape[0]\n",
    "        vector = np.array([cost_func(particles[i], **kwargs) for i in range(n_particles)])\n",
    "        assert vector.shape == (n_particles, ), \"The cost function should return a single value.\"\n",
    "        return vector\n",
    "    return cost_dec"
   ]
  },
  {
   "cell_type": "markdown",
   "metadata": {},
   "source": [
    "# Running The Algorithm\n",
    "Braced with these preparations we can finally start using the algorithm:"
   ]
  },
  {
   "cell_type": "code",
   "execution_count": 7,
   "metadata": {},
   "outputs": [
    {
     "name": "stderr",
     "output_type": "stream",
     "text": [
      "INFO:pyswarms.single.general_optimizer:Arguments Passed to Objective Function: {}\n"
     ]
    },
    {
     "ename": "TypeError",
     "evalue": "'<' not supported between instances of 'function' and 'function'",
     "output_type": "error",
     "traceback": [
      "\u001b[0;31m---------------------------------------------------------------------------\u001b[0m",
      "\u001b[0;31mTypeError\u001b[0m                                 Traceback (most recent call last)",
      "\u001b[0;32m<timed exec>\u001b[0m in \u001b[0;36m<module>\u001b[0;34m()\u001b[0m\n",
      "\u001b[0;32m/usr/local/lib/python3.6/dist-packages/pyswarms-0.3.1-py3.6.egg/pyswarms/single/general_optimizer.py\u001b[0m in \u001b[0;36moptimize\u001b[0;34m(self, objective_func, iters, print_step, verbose, **kwargs)\u001b[0m\n\u001b[1;32m    249\u001b[0m             \u001b[0mself\u001b[0m\u001b[0;34m.\u001b[0m\u001b[0mswarm\u001b[0m\u001b[0;34m.\u001b[0m\u001b[0mpbest_cost\u001b[0m \u001b[0;34m=\u001b[0m \u001b[0mobjective_func\u001b[0m\u001b[0;34m(\u001b[0m\u001b[0mself\u001b[0m\u001b[0;34m.\u001b[0m\u001b[0mswarm\u001b[0m\u001b[0;34m.\u001b[0m\u001b[0mpbest_pos\u001b[0m\u001b[0;34m,\u001b[0m \u001b[0;34m**\u001b[0m\u001b[0mkwargs\u001b[0m\u001b[0;34m)\u001b[0m\u001b[0;34m\u001b[0m\u001b[0m\n\u001b[1;32m    250\u001b[0m             self.swarm.pbest_pos, self.swarm.pbest_cost = compute_pbest(\n\u001b[0;32m--> 251\u001b[0;31m                 \u001b[0mself\u001b[0m\u001b[0;34m.\u001b[0m\u001b[0mswarm\u001b[0m\u001b[0;34m\u001b[0m\u001b[0m\n\u001b[0m\u001b[1;32m    252\u001b[0m             )\n\u001b[1;32m    253\u001b[0m             \u001b[0mbest_cost_yet_found\u001b[0m \u001b[0;34m=\u001b[0m \u001b[0mself\u001b[0m\u001b[0;34m.\u001b[0m\u001b[0mswarm\u001b[0m\u001b[0;34m.\u001b[0m\u001b[0mbest_cost\u001b[0m\u001b[0;34m\u001b[0m\u001b[0m\n",
      "\u001b[0;32m/usr/local/lib/python3.6/dist-packages/pyswarms-0.3.1-py3.6.egg/pyswarms/backend/operators.py\u001b[0m in \u001b[0;36mcompute_pbest\u001b[0;34m(swarm)\u001b[0m\n\u001b[1;32m     60\u001b[0m         \u001b[0mdimensions\u001b[0m \u001b[0;34m=\u001b[0m \u001b[0mswarm\u001b[0m\u001b[0;34m.\u001b[0m\u001b[0mdimensions\u001b[0m\u001b[0;34m\u001b[0m\u001b[0m\n\u001b[1;32m     61\u001b[0m         \u001b[0;31m# Create a 1-D and 2-D mask based from comparisons\u001b[0m\u001b[0;34m\u001b[0m\u001b[0;34m\u001b[0m\u001b[0m\n\u001b[0;32m---> 62\u001b[0;31m         \u001b[0mmask_cost\u001b[0m \u001b[0;34m=\u001b[0m \u001b[0mswarm\u001b[0m\u001b[0;34m.\u001b[0m\u001b[0mcurrent_cost\u001b[0m \u001b[0;34m<\u001b[0m \u001b[0mswarm\u001b[0m\u001b[0;34m.\u001b[0m\u001b[0mpbest_cost\u001b[0m\u001b[0;34m\u001b[0m\u001b[0m\n\u001b[0m\u001b[1;32m     63\u001b[0m         \u001b[0mmask_pos\u001b[0m \u001b[0;34m=\u001b[0m \u001b[0mnp\u001b[0m\u001b[0;34m.\u001b[0m\u001b[0mrepeat\u001b[0m\u001b[0;34m(\u001b[0m\u001b[0mmask_cost\u001b[0m\u001b[0;34m[\u001b[0m\u001b[0;34m:\u001b[0m\u001b[0;34m,\u001b[0m \u001b[0mnp\u001b[0m\u001b[0;34m.\u001b[0m\u001b[0mnewaxis\u001b[0m\u001b[0;34m]\u001b[0m\u001b[0;34m,\u001b[0m \u001b[0mdimensions\u001b[0m\u001b[0;34m,\u001b[0m \u001b[0maxis\u001b[0m\u001b[0;34m=\u001b[0m\u001b[0;36m1\u001b[0m\u001b[0;34m)\u001b[0m\u001b[0;34m\u001b[0m\u001b[0m\n\u001b[1;32m     64\u001b[0m         \u001b[0;31m# Apply masks\u001b[0m\u001b[0;34m\u001b[0m\u001b[0;34m\u001b[0m\u001b[0m\n",
      "\u001b[0;31mTypeError\u001b[0m: '<' not supported between instances of 'function' and 'function'"
     ]
    }
   ],
   "source": [
    "%%time\n",
    "\n",
    "# Set-up hyperparameters and topology\n",
    "options = {'c1': 0.5, 'c2': 0.3, 'w':0.9}\n",
    "my_topology = Pyramid(static=False)\n",
    "\n",
    "# Call instance of GlobalBestPSO\n",
    "optimizer = ps.single.GeneralOptimizerPSO(n_particles=10, dimensions=2,\n",
    "                                    options=options, topology=my_topology)\n",
    "\n",
    "# Perform optimization\n",
    "stats = optimizer.optimize(cost, print_step=100, iters=100, verbose=3)"
   ]
  },
  {
   "cell_type": "code",
   "execution_count": null,
   "metadata": {},
   "outputs": [],
   "source": []
  }
 ],
 "metadata": {
  "kernelspec": {
   "display_name": "Python 3",
   "language": "python",
   "name": "python3"
  },
  "language_info": {
   "codemirror_mode": {
    "name": "ipython",
    "version": 3
   },
   "file_extension": ".py",
   "mimetype": "text/x-python",
   "name": "python",
   "nbconvert_exporter": "python",
   "pygments_lexer": "ipython3",
   "version": "3.6.5"
  }
 },
 "nbformat": 4,
 "nbformat_minor": 2
}
