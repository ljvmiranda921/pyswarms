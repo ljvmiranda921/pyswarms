{
 "cells": [
  {
   "cell_type": "markdown",
   "metadata": {},
   "source": [
    "# Analysing a Simple Circuit using Paricle Swarm Optimzation    ==============================\n",
    "\n",
    "In this example, we are going to use the `pyswarms` library to analyse a simple circuit by treating it as an optimization problem.The goal of the analysis of the circuit is to find out the current in the circuit.We will use the `pyswarms` library to find an *optimal* solution from a set of candidate solutions."
   ]
  },
  {
   "cell_type": "code",
   "execution_count": 15,
   "metadata": {},
   "outputs": [],
   "source": [
    "import sys\n",
    "# Change directory to access the pyswarms module\n",
    "sys.path.append('../')"
   ]
  },
  {
   "cell_type": "code",
   "execution_count": 16,
   "metadata": {},
   "outputs": [
    {
     "name": "stdout",
     "output_type": "stream",
     "text": [
      "Running on Python version: 3.6.5 (default, Apr  1 2018, 05:46:30) \n",
      "[GCC 7.3.0]\n"
     ]
    }
   ],
   "source": [
    "print('Running on Python version: {}'.format(sys.version))"
   ]
  },
  {
   "cell_type": "code",
   "execution_count": 17,
   "metadata": {},
   "outputs": [
    {
     "name": "stdout",
     "output_type": "stream",
     "text": [
      "The autoreload extension is already loaded. To reload it, use:\n",
      "  %reload_ext autoreload\n"
     ]
    }
   ],
   "source": [
    "# Import modules\n",
    "import numpy as np\n",
    "\n",
    "# Import PySwarms\n",
    "import pyswarms as ps\n",
    "\n",
    "import math\n",
    "\n",
    "# Some more magic so that the notebook will reload external python modules;\n",
    "# see http://stackoverflow.com/questions/1907993/autoreload-of-modules-in-ipython\n",
    "%load_ext autoreload\n",
    "%autoreload 2"
   ]
  },
  {
   "cell_type": "markdown",
   "metadata": {},
   "source": [
    "# Introduction\n",
    "\n",
    "We will be analysing a Diode-Resistor Circuit in this tutorial.This type of circuit ensures that current would only flow in the direction of the diode's arrow through the resistor(and any load placed in parallel with the resistor).The diode only lets current to flow in one direction through it, namely the direction that it's triangle points. \n",
    "\n",
    "PSO algorithm has been used in various fields of electrical engineering for the aim of optimizing such as design of logical circuits, analog and filter design, integrated circuit design, Microwave circuit design etc.\n",
    "\n",
    "\n",
    "# Determination Of Cost Function                                                                                              \n",
    "![alt text](https://user-images.githubusercontent.com/39431903/43938822-29aaf9b8-9c66-11e8-8e54-01530db005c6.png \"CIRCUIT\")\n",
    "\n",
    "We have used Shockley equation for this tutorial;\n",
    "\n",
    "<a href=\"https://www.codecogs.com/eqnedit.php?latex=I&space;=&space;I_s&space;e^{\\frac{v_D}{v_T}}\" target=\"_blank\"><img src=\"https://latex.codecogs.com/gif.latex?I&space;=&space;I_s&space;e^{\\frac{v_D}{v_T}}\" title=\"I = I_s e^{\\frac{v_D}{v_T}}\" /></a>\n",
    "\n",
    "We will simplify the previous equation to get value of diode voltage:\n",
    "\n",
    "<img src=\"https://latex.codecogs.com/gif.latex?v_D&space;=&space;v_T&space;\\log{\\left&space;|\\frac{I}{I_s}\\right&space;|}\" title=\"v_D = v_T \\log{\\left |\\frac{I}{I_s}\\right |}\" />\n",
    "\n",
    "Using the Kirchoff voltage law we get:\n",
    "\n",
    "![alt text](https://latex.codecogs.com/gif.latex?U&space;=&space;v_D&space;&plus;&space;v_R)\n",
    "\n",
    "Now we will restructure this equation to get the value of our cost function for the optimization:\n",
    "\n",
    "![alt text](https://latex.codecogs.com/gif.latex?c&space;=&space;\\left&space;|U-v_D-v_R\\right&space;|)\n",
    "\n",
    "The absolute value is necessary because we don't want any negative currents.\n",
    "\n",
    "![alt text](https://latex.codecogs.com/gif.latex?c&space;=&space;\\left&space;|&space;U&space;-&space;v_T&space;\\log{\\left&space;|&space;\\frac{I}{I_s}&space;\\right&space;|}&space;-&space;RI&space;\\right&space;|)\n",
    "\n",
    "Hence, diode current is the parameter we want to optimise, \n",
    "For this tutorial we will take these values for our parameters:\n",
    "\n",
    ". U : 10V\n",
    "\n",
    ". Is : 9.4 pA\n",
    "\n",
    ". R : 100 Ohm\n",
    "\n",
    ". Vt : 25.3 mV\n",
    "\n",
    "Hence, after substituting the values of parameters and  further simplification the cost function will be reduced to: \n",
    "\n",
    "![alt text](https://latex.codecogs.com/gif.latex?c&space;=&space;\\left&space;|&space;9.24&space;-&space;0.069\\left&space;log{\\left&space;|&space;I&space;\\right&space;|}&space;-&space;100I&space;\\right|)\n",
    "    "
   ]
  },
  {
   "cell_type": "markdown",
   "metadata": {},
   "source": [
    "# Optimizing our Cost Function\n",
    "\n",
    "Now as we have or general equation of our cost function we need to define it in python to make it ready for optimisation.\n"
   ]
  },
  {
   "cell_type": "code",
   "execution_count": 20,
   "metadata": {},
   "outputs": [
    {
     "ename": "NameError",
     "evalue": "name 'pyswarms' is not defined",
     "output_type": "error",
     "traceback": [
      "\u001b[0;31m---------------------------------------------------------------------------\u001b[0m",
      "\u001b[0;31mNameError\u001b[0m                                 Traceback (most recent call last)",
      "\u001b[0;32m<timed exec>\u001b[0m in \u001b[0;36m<module>\u001b[0;34m()\u001b[0m\n",
      "\u001b[0;31mNameError\u001b[0m: name 'pyswarms' is not defined"
     ]
    }
   ],
   "source": [
    "%%time\n",
    "\n",
    "@pyswarms.cost\n",
    "def cost_func(I):\n",
    "    \"\"\"Method for definition of our cost function\n",
    "        Inputs:\n",
    "        --------\n",
    "        I : current flowing in the diode\n",
    "        \n",
    "        Returns:\n",
    "        ---------\n",
    "        cost: our cost function\n",
    "    \"\"\"\n",
    "    cost = abs(9.24 - (0.069 * (math.log(I, 10))) - (100 * I))\n",
    "    return cost"
   ]
  }
 ],
 "metadata": {
  "kernelspec": {
   "display_name": "Python 3",
   "language": "python",
   "name": "python3"
  },
  "language_info": {
   "codemirror_mode": {
    "name": "ipython",
    "version": 3
   },
   "file_extension": ".py",
   "mimetype": "text/x-python",
   "name": "python",
   "nbconvert_exporter": "python",
   "pygments_lexer": "ipython3",
   "version": "3.6.5"
  }
 },
 "nbformat": 4,
 "nbformat_minor": 2
}
