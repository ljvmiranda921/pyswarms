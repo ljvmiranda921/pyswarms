{
 "cells": [
  {
   "cell_type": "markdown",
   "metadata": {},
   "source": [
    "# Solving an electric circuit using Particle Swarm Optimization\n",
    "## Introduction"
   ]
  },
  {
   "cell_type": "markdown",
   "metadata": {},
   "source": [
    "PSO can be utilized in a wide variety of fields. In this example, the problem consists of analysing a given electric circuit and finding the electric current that flows through it. To accomplish this, the pyswarms library will be used to solve a non-linear equation by restructuring it as an optimization problem. The circuit is composed by a source, a resistor and a diode, as shown below.\n",
    "\n",
    "![Circuit](https://user-images.githubusercontent.com/39431903/43938822-29aaf9b8-9c66-11e8-8e54-01530db005c6.png)\n"
   ]
  },
  {
   "cell_type": "markdown",
   "metadata": {},
   "source": [
    "### Mathematical Formulation\n",
    "\n",
    "Kirchhoff's voltage law states that the directed sum of the voltages around any closed loop is zero. In other words, the sum of the voltages of the passive elements must be equal to the sum of the voltages of the active elements, as expressed by the following equation:\n",
    "\n",
    "$ U = v_D + v_R $, where $U$ represents the voltage of the source and, $v_D$ and $v_R$ represent the voltage of the diode and the resistor, respectively.\n",
    "\n",
    "To determine the current flowing through the circuit, $v_D$ and $v_R$ need to be defined as functions of $I$. A simplified Shockley equation will be used to formulate the current-voltage characteristic function of the diode. This function relates the current that flows through the diode with the voltage across it. Both $I_s$ and $v_T$ are known properties.\n",
    "\n",
    "$I = I_s  e^{\\frac{v_D}{v_T}}$\n",
    "\n",
    "Where:\n",
    "\n",
    "- $I$ : diode current\n",
    "- $I_s$ : reverse bias saturation current\n",
    "- $v_D$ : diode voltage\n",
    "- $v_T$ : thermal voltage\n",
    "\n",
    "Which can be formulated over $v_D$:\n",
    "\n",
    "$v_D = v_T \\log{\\left |\\frac{I}{I_s}\\right |}$\n",
    "\n",
    "The voltage over the resistor can be written as a function of the resistor's resistance $R$ and the current $I$:\n",
    "\n",
    "$v_R = R  I$\n",
    "\n",
    "And by replacing these expressions on the Kirschhoff's voltage law equation, the following equation is obtained:\n",
    "\n",
    "$ U = v_T \\log{\\left |\\frac{I}{I_s}\\right |} + R I $\n"
   ]
  },
  {
   "cell_type": "markdown",
   "metadata": {},
   "source": [
    "To find the solution of the problem, the previous equation needs to be solved for $I$, which is the same as finding $I$ such that the cost function $c$ equals zero, as shown below. By doing this, solving for $I$ is restructured as a minimization problem. The absolute value is necessary because we don't want to obtain negative currents.\n",
    "\n",
    "$c = \\left | U - v_T \\log{\\left | \\frac{I}{I_s} \\right |} - RI \\right |$\n",
    "\n"
   ]
  },
  {
   "cell_type": "markdown",
   "metadata": {},
   "source": [
    "### Known parameter values\n",
    "\n",
    "The voltage of the source is $ 10 \\space V $ and the resistance of the resistor is $ 100 \\space \\Omega $. The diode is a silicon diode and it is assumed to be at room temperature.\n",
    "\n",
    "$U = 10 \\space V $\n",
    "\n",
    "$R = 100 \\space \\Omega $\n",
    "\n",
    "$I_s = 9.4 \\space pA = 9.4 \\times 10^{-12} \\space A$ (reverse bias saturation current of silicon diodes at room temperature, $T=300 \\space K$)\n",
    "\n",
    "$v_T = 25.85 \\space mV = 25.85 \\times 10^{-3} \\space V $ (thermal voltage at room temperature, $T=300 \\space K$)"
   ]
  },
  {
   "cell_type": "markdown",
   "metadata": {},
   "source": [
    "## Optimization"
   ]
  },
  {
   "cell_type": "code",
   "execution_count": 2,
   "metadata": {},
   "outputs": [],
   "source": [
    "# Import modules\n",
    "import sys\n",
    "import numpy as np\n",
    "\n",
    "# Import PySwarms\n",
    "import pyswarms as ps"
   ]
  },
  {
   "cell_type": "code",
   "execution_count": 3,
   "metadata": {},
   "outputs": [
    {
     "name": "stdout",
     "output_type": "stream",
     "text": [
      "Running on Python version: 3.7.1 (v3.7.1:260ec2c36a, Oct 20 2018, 14:05:16) [MSC v.1915 32 bit (Intel)]\n"
     ]
    }
   ],
   "source": [
    "print('Running on Python version: {}'.format(sys.version))"
   ]
  },
  {
   "cell_type": "markdown",
   "metadata": {},
   "source": [
    "### Defining the cost fuction\n",
    "\n",
    "The first argument of the cost function is a *numpy.ndarray*. Each dimension of this array represents an unknown variable. In this problem, the unknown variable is just $I$, thus the first argument is a unidimensional array. As default, the thermal voltage is assumed to be $25.85 \\space mV$."
   ]
  },
  {
   "cell_type": "code",
   "execution_count": 4,
   "metadata": {},
   "outputs": [],
   "source": [
    "def cost_function(I, U, R, I_s, v_t = 25.85 / 1000):\n",
    "    \n",
    "    c = abs(U - v_t * np.log(abs(I[:, 0] / I_s)) - R * I[:, 0])\n",
    "    \n",
    "    return c"
   ]
  },
  {
   "cell_type": "markdown",
   "metadata": {},
   "source": [
    "### Setting the optimizer\n",
    "\n",
    "To solve this problem, the global-best optimizer is going to be used. "
   ]
  },
  {
   "cell_type": "code",
   "execution_count": 5,
   "metadata": {},
   "outputs": [
    {
     "name": "stderr",
     "output_type": "stream",
     "text": [
      "2019-02-11 22:35:06,506 - pyswarms.single.global_best - INFO - Optimize for 1000 iters with {'c1': 0.5, 'c2': 0.3, 'w': 0.9}\n",
      "pyswarms.single.global_best: 100%|██████████████████████████████████████████████████████████████|1000/1000, best_cost=0\n",
      "2019-02-11 22:35:25,195 - pyswarms.single.global_best - INFO - Optimization finished | best cost: 0.0, best pos: [0.09404769]\n"
     ]
    },
    {
     "name": "stdout",
     "output_type": "stream",
     "text": [
      "Wall time: 18.7 s\n"
     ]
    }
   ],
   "source": [
    "%%time\n",
    "# Set-up hyperparameters\n",
    "options = {'c1': 0.5, 'c2': 0.3, 'w':0.9}\n",
    "\n",
    "# Call instance of PSO\n",
    "optimizer = ps.single.GlobalBestPSO(n_particles=10, dimensions=1, options=options)\n",
    "\n",
    "# Perform optimization\n",
    "cost, pos = optimizer.optimize(cost_function, iters=1000, U=10, R=100, I_s=9.4 * (10 ** -12))"
   ]
  },
  {
   "cell_type": "code",
   "execution_count": 10,
   "metadata": {},
   "outputs": [
    {
     "name": "stdout",
     "output_type": "stream",
     "text": [
      "0.09404768643017938\n"
     ]
    }
   ],
   "source": [
    "print(pos[0])"
   ]
  },
  {
   "cell_type": "code",
   "execution_count": 8,
   "metadata": {},
   "outputs": [
    {
     "name": "stdout",
     "output_type": "stream",
     "text": [
      "0.0\n"
     ]
    }
   ],
   "source": [
    "print(cost)"
   ]
  },
  {
   "cell_type": "markdown",
   "metadata": {},
   "source": [
    "### Solution\n",
    "\n",
    "The current flowing through the circuit is approximately $ 0.094 \\space A$ and the cost is equal to zero."
   ]
  }
 ],
 "metadata": {
  "kernelspec": {
   "display_name": "Python 3",
   "language": "python",
   "name": "python3"
  },
  "language_info": {
   "codemirror_mode": {
    "name": "ipython",
    "version": 3
   },
   "file_extension": ".py",
   "mimetype": "text/x-python",
   "name": "python",
   "nbconvert_exporter": "python",
   "pygments_lexer": "ipython3",
   "version": "3.7.1"
  }
 },
 "nbformat": 4,
 "nbformat_minor": 2
}
