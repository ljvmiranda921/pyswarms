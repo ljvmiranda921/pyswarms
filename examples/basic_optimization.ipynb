{
 "cells": [
  {
   "cell_type": "markdown",
   "metadata": {},
   "source": [
    "# Basic Optimization\n",
    "In this example, we'll be performing a simple optimization of single-objective functions using the global-best optimizer in `pyswarms.single.GBestPSO` and the local-best optimizer in `pyswarms.single.LBestPSO`. This aims to demonstrate the basic capabilities of the library when applied to benchmark problems."
   ]
  },
  {
   "cell_type": "code",
   "execution_count": 1,
   "metadata": {},
   "outputs": [],
   "source": [
    "import sys\n",
    "# Change directory to access the pyswarms module\n",
    "sys.path.append('../')"
   ]
  },
  {
   "cell_type": "code",
   "execution_count": 2,
   "metadata": {},
   "outputs": [
    {
     "name": "stdout",
     "output_type": "stream",
     "text": [
      "Running on Python version: 3.6.3 |Anaconda custom (64-bit)| (default, Oct 13 2017, 12:02:49) \n",
      "[GCC 7.2.0]\n"
     ]
    }
   ],
   "source": [
    "print('Running on Python version: {}'.format(sys.version))"
   ]
  },
  {
   "cell_type": "code",
   "execution_count": 3,
   "metadata": {},
   "outputs": [],
   "source": [
    "# Import modules\n",
    "import numpy as np\n",
    "\n",
    "# Import PySwarms\n",
    "import pyswarms as ps\n",
    "from pyswarms.utils.functions import single_obj as fx\n",
    "\n",
    "# Some more magic so that the notebook will reload external python modules;\n",
    "# see http://stackoverflow.com/questions/1907993/autoreload-of-modules-in-ipython\n",
    "%load_ext autoreload\n",
    "%autoreload 2"
   ]
  },
  {
   "cell_type": "markdown",
   "metadata": {},
   "source": [
    "## Optimizing a function\n",
    "First, let's start by optimizing the sphere function. Recall that the minima of this function can be located at `f(0,0..,0)` with a value of `0`. In case you don't remember the characteristics of a given function, simply call `help(<function>)`."
   ]
  },
  {
   "cell_type": "markdown",
   "metadata": {},
   "source": [
    "For now let's just set some arbitrary parameters in our optimizers. There are, at minimum, three steps to perform optimization:\n",
    "\n",
    "1. Set the hyperparameters to configure the swarm as a `dict`.\n",
    "2. Create an instance of the optimizer by passing the dictionary along with the necessary arguments.\n",
    "3. Call the `optimize()` method and have it store the optimal cost and position in a variable.\n",
    "\n",
    "The `optimize()` method returns a `tuple` of values, one of which includes the optimal cost and position after optimization. You can store it in a single variable and just index the values, or unpack it using several variables at once."
   ]
  },
  {
   "cell_type": "code",
   "execution_count": 4,
   "metadata": {},
   "outputs": [
    {
     "name": "stderr",
     "output_type": "stream",
     "text": [
      "INFO:pyswarms.single.global_best:Iteration 1/1000, cost: 0.11075768527574707\n",
      "INFO:pyswarms.single.global_best:Iteration 101/1000, cost: 7.521863508083004e-08\n",
      "INFO:pyswarms.single.global_best:Iteration 201/1000, cost: 2.8159915186067273e-11\n",
      "INFO:pyswarms.single.global_best:Iteration 301/1000, cost: 8.794923638889175e-17\n",
      "INFO:pyswarms.single.global_best:Iteration 401/1000, cost: 1.4699516547190895e-21\n",
      "INFO:pyswarms.single.global_best:Iteration 501/1000, cost: 5.111264897313781e-23\n",
      "INFO:pyswarms.single.global_best:Iteration 601/1000, cost: 8.329697430155943e-27\n",
      "INFO:pyswarms.single.global_best:Iteration 701/1000, cost: 1.662161785541961e-30\n",
      "INFO:pyswarms.single.global_best:Iteration 801/1000, cost: 6.140424420222279e-34\n",
      "INFO:pyswarms.single.global_best:Iteration 901/1000, cost: 2.0523902169204634e-39\n",
      "INFO:pyswarms.single.global_best:================================\n",
      "Optimization finished!\n",
      "Final cost: 0.0000\n",
      "Best value: [-2.431421462417008e-22, -9.502018378214418e-23]\n",
      "\n"
     ]
    },
    {
     "name": "stdout",
     "output_type": "stream",
     "text": [
      "CPU times: user 144 ms, sys: 14.8 ms, total: 159 ms\n",
      "Wall time: 151 ms\n"
     ]
    }
   ],
   "source": [
    "%%time\n",
    "# Set-up hyperparameters\n",
    "options = {'c1': 0.5, 'c2': 0.3, 'w':0.9}\n",
    "\n",
    "# Call instance of PSO\n",
    "optimizer = ps.single.GlobalBestPSO(n_particles=10, dimensions=2, options=options)\n",
    "\n",
    "# Perform optimization\n",
    "cost, pos = optimizer.optimize(fx.sphere_func, print_step=100, iters=1000, verbose=3)"
   ]
  },
  {
   "cell_type": "markdown",
   "metadata": {},
   "source": [
    "We can see that the optimizer was able to find a good minima as shown above. You can control the verbosity of the output using the `verbose` argument, and the number of steps to be printed out using the `print_step` argument."
   ]
  },
  {
   "cell_type": "markdown",
   "metadata": {},
   "source": [
    "Now, let's try this one using local-best PSO:"
   ]
  },
  {
   "cell_type": "code",
   "execution_count": 5,
   "metadata": {
    "scrolled": true
   },
   "outputs": [
    {
     "name": "stderr",
     "output_type": "stream",
     "text": [
      "INFO:pyswarms.single.local_best:Iteration 1/1000, cost: 0.01379181672220725\n",
      "INFO:pyswarms.single.local_best:Iteration 101/1000, cost: 2.084056061999154e-07\n",
      "INFO:pyswarms.single.local_best:Iteration 201/1000, cost: 9.44588224259351e-10\n",
      "INFO:pyswarms.single.local_best:Iteration 301/1000, cost: 1.5414149511766008e-13\n",
      "INFO:pyswarms.single.local_best:Iteration 401/1000, cost: 3.283944854760787e-16\n",
      "INFO:pyswarms.single.local_best:Iteration 501/1000, cost: 2.093366830537641e-20\n",
      "INFO:pyswarms.single.local_best:Iteration 601/1000, cost: 5.0279508047072096e-24\n",
      "INFO:pyswarms.single.local_best:Iteration 701/1000, cost: 1.0492646748670006e-27\n",
      "INFO:pyswarms.single.local_best:Iteration 801/1000, cost: 2.2616819643931453e-29\n",
      "INFO:pyswarms.single.local_best:Iteration 901/1000, cost: 8.48269618909152e-35\n",
      "INFO:pyswarms.single.local_best:================================\n",
      "Optimization finished!\n",
      "Final cost: 0.0000\n",
      "Best value: [2.122881378865588e-18, -5.35447408455737e-19]\n",
      "\n"
     ]
    },
    {
     "name": "stdout",
     "output_type": "stream",
     "text": [
      "CPU times: user 355 ms, sys: 4.36 ms, total: 359 ms\n",
      "Wall time: 353 ms\n"
     ]
    }
   ],
   "source": [
    "%%time\n",
    "# Set-up hyperparameters\n",
    "options = {'c1': 0.5, 'c2': 0.3, 'w':0.9, 'k': 2, 'p': 2}\n",
    "\n",
    "# Call instance of PSO\n",
    "optimizer = ps.single.LocalBestPSO(n_particles=10, dimensions=2, options=options)\n",
    "\n",
    "# Perform optimization\n",
    "cost, pos = optimizer.optimize(fx.sphere_func, print_step=100, iters=1000, verbose=3)"
   ]
  },
  {
   "cell_type": "markdown",
   "metadata": {},
   "source": [
    "## Optimizing a function with bounds\n",
    "Another thing that we can do is to set some bounds into our solution, so as to contain our candidate solutions within a specific range. We can do this simply by passing a `bounds` parameter, of type `tuple`, when creating an instance of our swarm. Let's try this using the global-best PSO with the Rastrigin function (`rastrigin_func` in `pyswarms.utils.functions.single_obj`)."
   ]
  },
  {
   "cell_type": "markdown",
   "metadata": {},
   "source": [
    "Recall that the Rastrigin function is bounded within `[-5.12, 5.12]`. If we pass an unbounded swarm into this function, then a `ValueError` might be raised. So what we'll do is to create a bound within the specified range. There are some things to remember when specifying a bound:\n",
    "\n",
    "* A bound should be of type tuple with length 2. \n",
    "* It should contain two `numpy.ndarrays` so that we have a `(min_bound, max_bound)`\n",
    "* Obviously, all values in the `max_bound` should always be greater than the `min_bound`. Their shapes should match the dimensions of the swarm."
   ]
  },
  {
   "cell_type": "markdown",
   "metadata": {},
   "source": [
    "What we'll do now is to create a 10-particle, 2-dimensional swarm. This means that we have to set our maximum and minimum boundaries with the shape of 2. In case we want to initialize an n-dimensional swarm, we then have to set our bounds with the same shape n. A fast workaround for this would be to use the `numpy.ones` function multiplied by a constant."
   ]
  },
  {
   "cell_type": "code",
   "execution_count": 6,
   "metadata": {},
   "outputs": [],
   "source": [
    "# Create bounds\n",
    "max_bound = 5.12 * np.ones(2)\n",
    "min_bound = - max_bound\n",
    "bounds = (min_bound, max_bound)"
   ]
  },
  {
   "cell_type": "code",
   "execution_count": 7,
   "metadata": {},
   "outputs": [
    {
     "name": "stderr",
     "output_type": "stream",
     "text": [
      "INFO:pyswarms.single.global_best:Iteration 1/1000, cost: 12.243865048066269\n",
      "INFO:pyswarms.single.global_best:Iteration 101/1000, cost: 1.1759164022634394\n",
      "INFO:pyswarms.single.global_best:Iteration 201/1000, cost: 0.9949603350768896\n",
      "INFO:pyswarms.single.global_best:Iteration 301/1000, cost: 0.9949590581556009\n",
      "INFO:pyswarms.single.global_best:Iteration 401/1000, cost: 0.9949590570934177\n",
      "INFO:pyswarms.single.global_best:Iteration 501/1000, cost: 0.9949590570932898\n",
      "INFO:pyswarms.single.global_best:Iteration 601/1000, cost: 0.9949590570932898\n",
      "INFO:pyswarms.single.global_best:Iteration 701/1000, cost: 0.9949590570932898\n",
      "INFO:pyswarms.single.global_best:Iteration 801/1000, cost: 0.9949590570932898\n",
      "INFO:pyswarms.single.global_best:Iteration 901/1000, cost: 0.9949590570932898\n",
      "INFO:pyswarms.single.global_best:================================\n",
      "Optimization finished!\n",
      "Final cost: 0.9950\n",
      "Best value: [3.5850411183743393e-09, -0.9949586379966202]\n",
      "\n"
     ]
    },
    {
     "name": "stdout",
     "output_type": "stream",
     "text": [
      "CPU times: user 213 ms, sys: 7.55 ms, total: 221 ms\n",
      "Wall time: 210 ms\n"
     ]
    }
   ],
   "source": [
    "%%time\n",
    "# Initialize swarm\n",
    "options = {'c1': 0.5, 'c2': 0.3, 'w':0.9}\n",
    "\n",
    "# Call instance of PSO with bounds argument\n",
    "optimizer = ps.single.GlobalBestPSO(n_particles=10, dimensions=2, options=options, bounds=bounds)\n",
    "\n",
    "# Perform optimization\n",
    "cost, pos = optimizer.optimize(fx.rastrigin_func, print_step=100, iters=1000, verbose=3)"
   ]
  },
  {
   "cell_type": "code",
   "execution_count": null,
   "metadata": {},
   "outputs": [],
   "source": []
  },
  {
   "cell_type": "markdown",
   "metadata": {},
   "source": [
    "## Basic Optimization with Arguments"
   ]
  },
  {
   "cell_type": "markdown",
   "metadata": {},
   "source": [
    "Here, we will run a basic optimization using an objective function that needs parameterization.  We will use the ``single.GBestPSO`` and a version of the rosenbrock function to demonstrate"
   ]
  },
  {
   "cell_type": "code",
   "execution_count": 2,
   "metadata": {},
   "outputs": [
    {
     "name": "stdout",
     "output_type": "stream",
     "text": [
      "Running Python 3.5.2 |Anaconda custom (64-bit)| (default, Jul  2 2016, 17:53:06) \n",
      "[GCC 4.4.7 20120313 (Red Hat 4.4.7-1)]\n"
     ]
    }
   ],
   "source": [
    "import sys\n",
    "# change directory to access pyswarms\n",
    "sys.path.append('../')\n",
    "\n",
    "print(\"Running Python {}\".format(sys.version))"
   ]
  },
  {
   "cell_type": "code",
   "execution_count": 8,
   "metadata": {
    "scrolled": true
   },
   "outputs": [],
   "source": [
    "# import modules\n",
    "import numpy as np\n",
    "\n",
    "# create a parameterized version of the classic Rosenbrock unconstrained optimzation function\n",
    "def rosenbrock_with_args(x, a, b, c=0):\n",
    "\n",
    "    f = (a - x[:, 0]) ** 2 + b * (x[:, 1] - x[:, 0] ** 2) ** 2 + c\n",
    "    return f"
   ]
  },
  {
   "cell_type": "markdown",
   "metadata": {},
   "source": [
    "### Using Arguments"
   ]
  },
  {
   "cell_type": "markdown",
   "metadata": {},
   "source": [
    "Arguments can either be passed in using a tuple or a dictionary, using the ``kwargs={}`` paradigm. First lets optimize the Rosenbrock function using keyword arguments.  Note in the definition of the Rosenbrock function above, there were two arguments that need to be passed other than the design variables, and one optional keyword argument, ``a``, ``b``, and ``c``, respectively"
   ]
  },
  {
   "cell_type": "code",
   "execution_count": 12,
   "metadata": {},
   "outputs": [
    {
     "name": "stderr",
     "output_type": "stream",
     "text": [
      "INFO:pyswarms.single.global_best:Arguments Passed to Objective Function: {'c': 0, 'b': 100, 'a': 1}\n",
      "INFO:pyswarms.single.global_best:Iteration 1/1000, cost: 1022.9667801907804\n",
      "INFO:pyswarms.single.global_best:Iteration 101/1000, cost: 0.0011172801146408992\n",
      "INFO:pyswarms.single.global_best:Iteration 201/1000, cost: 7.845605970774126e-07\n",
      "INFO:pyswarms.single.global_best:Iteration 301/1000, cost: 1.313503109901238e-09\n",
      "INFO:pyswarms.single.global_best:Iteration 401/1000, cost: 5.187079604907219e-10\n",
      "INFO:pyswarms.single.global_best:Iteration 501/1000, cost: 1.0115283486088853e-10\n",
      "INFO:pyswarms.single.global_best:Iteration 601/1000, cost: 2.329870757208421e-13\n",
      "INFO:pyswarms.single.global_best:Iteration 701/1000, cost: 4.826176894160183e-15\n",
      "INFO:pyswarms.single.global_best:Iteration 801/1000, cost: 3.125715456651088e-17\n",
      "INFO:pyswarms.single.global_best:Iteration 901/1000, cost: 1.4236768129666014e-19\n",
      "INFO:pyswarms.single.global_best:================================\n",
      "Optimization finished!\n",
      "Final cost: 0.0000\n",
      "Best value: [0.99999999996210465, 0.9999999999218413]\n",
      "\n"
     ]
    }
   ],
   "source": [
    "from pyswarms.single.global_best import GlobalBestPSO\n",
    "\n",
    "# instatiate the optimizer\n",
    "x_max = 10 * np.ones(2)\n",
    "x_min = -1 * x_max\n",
    "bounds = (x_min, x_max)\n",
    "options = {'c1': 0.5, 'c2': 0.3, 'w': 0.9}\n",
    "optimizer = GlobalBestPSO(n_particles=10, dimensions=2, options=options, bounds=bounds)\n",
    "\n",
    "# now run the optimization, pass a=1 and b=100 as a tuple assigned to args\n",
    "\n",
    "cost, pos = optimizer.optimize(rosenbrock_with_args, 1000, print_step=100, verbose=3, a=1, b=100, c=0)"
   ]
  },
  {
   "cell_type": "markdown",
   "metadata": {},
   "source": [
    "It is also possible to pass a dictionary of key word arguments by using ``**`` decorator when passing the dict"
   ]
  },
  {
   "cell_type": "code",
   "execution_count": 13,
   "metadata": {},
   "outputs": [
    {
     "name": "stderr",
     "output_type": "stream",
     "text": [
      "INFO:pyswarms.single.global_best:Arguments Passed to Objective Function: {'c': 0, 'b': 100.0, 'a': 1.0}\n",
      "INFO:pyswarms.single.global_best:Iteration 1/1000, cost: 1.996797703363527e-21\n",
      "INFO:pyswarms.single.global_best:Iteration 101/1000, cost: 1.0061676299213387e-24\n",
      "INFO:pyswarms.single.global_best:Iteration 201/1000, cost: 4.8140236741112245e-28\n",
      "INFO:pyswarms.single.global_best:Iteration 301/1000, cost: 2.879342304056693e-29\n",
      "INFO:pyswarms.single.global_best:Iteration 401/1000, cost: 0.0\n",
      "INFO:pyswarms.single.global_best:Iteration 501/1000, cost: 0.0\n",
      "INFO:pyswarms.single.global_best:Iteration 601/1000, cost: 0.0\n",
      "INFO:pyswarms.single.global_best:Iteration 701/1000, cost: 0.0\n",
      "INFO:pyswarms.single.global_best:Iteration 801/1000, cost: 0.0\n",
      "INFO:pyswarms.single.global_best:Iteration 901/1000, cost: 0.0\n",
      "INFO:pyswarms.single.global_best:================================\n",
      "Optimization finished!\n",
      "Final cost: 0.0000\n",
      "Best value: [1.0, 1.0]\n",
      "\n"
     ]
    }
   ],
   "source": [
    "kwargs={\"a\": 1.0, \"b\": 100.0, 'c':0}\n",
    "cost, pos = optimizer.optimize(rosenbrock_with_args, 1000, print_step=100, verbose=3, **kwargs)"
   ]
  },
  {
   "cell_type": "markdown",
   "metadata": {
    "collapsed": true
   },
   "source": [
    "Any key word arguments in the objective function can be left out as they will be passed the default as defined in the prototype. Note here, ``c`` is not passed into the function."
   ]
  },
  {
   "cell_type": "code",
   "execution_count": 14,
   "metadata": {},
   "outputs": [
    {
     "name": "stderr",
     "output_type": "stream",
     "text": [
      "INFO:pyswarms.single.global_best:Arguments Passed to Objective Function: {'b': 100, 'a': 1}\n",
      "INFO:pyswarms.single.global_best:Iteration 1/1000, cost: 0.0\n",
      "INFO:pyswarms.single.global_best:Iteration 101/1000, cost: 0.0\n",
      "INFO:pyswarms.single.global_best:Iteration 201/1000, cost: 0.0\n",
      "INFO:pyswarms.single.global_best:Iteration 301/1000, cost: 0.0\n",
      "INFO:pyswarms.single.global_best:Iteration 401/1000, cost: 0.0\n",
      "INFO:pyswarms.single.global_best:Iteration 501/1000, cost: 0.0\n",
      "INFO:pyswarms.single.global_best:Iteration 601/1000, cost: 0.0\n",
      "INFO:pyswarms.single.global_best:Iteration 701/1000, cost: 0.0\n",
      "INFO:pyswarms.single.global_best:Iteration 801/1000, cost: 0.0\n",
      "INFO:pyswarms.single.global_best:Iteration 901/1000, cost: 0.0\n",
      "INFO:pyswarms.single.global_best:================================\n",
      "Optimization finished!\n",
      "Final cost: 0.0000\n",
      "Best value: [1.0, 1.0]\n",
      "\n"
     ]
    }
   ],
   "source": [
    "cost, pos = optimizer.optimize(rosenbrock_with_args, 1000, print_step=100, verbose=3, a=1, b=100)"
   ]
  },
  {
   "cell_type": "code",
   "execution_count": null,
   "metadata": {
    "collapsed": true
   },
   "outputs": [],
   "source": []
  }
 ],
 "metadata": {
  "anaconda-cloud": {},
  "kernelspec": {
   "display_name": "Python 3",
   "language": "python",
   "name": "python3"
  },
  "language_info": {
   "codemirror_mode": {
    "name": "ipython",
    "version": 3
   },
   "file_extension": ".py",
   "mimetype": "text/x-python",
   "name": "python",
   "nbconvert_exporter": "python",
   "pygments_lexer": "ipython3",
   "version": "3.6.0"
  }
 },
 "nbformat": 4,
 "nbformat_minor": 1
}
