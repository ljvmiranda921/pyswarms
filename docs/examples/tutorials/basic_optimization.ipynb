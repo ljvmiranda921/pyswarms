{
 "cells": [
  {
   "cell_type": "markdown",
   "metadata": {},
   "source": [
    "# Basic Optimization\n",
    "In this example, we'll be performing a simple optimization of single-objective functions using the global-best optimizer in `pyswarms.single.GBestPSO` and the local-best optimizer in `pyswarms.single.LBestPSO`. This aims to demonstrate the basic capabilities of the library when applied to benchmark problems."
   ]
  },
  {
   "cell_type": "code",
   "execution_count": 1,
   "metadata": {},
   "outputs": [],
   "source": [
    "# Import modules\n",
    "import numpy as np\n",
    "\n",
    "# Import PySwarms\n",
    "import pyswarms as ps\n",
    "from pyswarms.utils.functions import single_obj as fx\n",
    "\n",
    "# Some more magic so that the notebook will reload external python modules;\n",
    "# see http://stackoverflow.com/questions/1907993/autoreload-of-modules-in-ipython\n",
    "%load_ext autoreload\n",
    "%autoreload 2"
   ]
  },
  {
   "cell_type": "markdown",
   "metadata": {},
   "source": [
    "## Optimizing a function\n",
    "First, let's start by optimizing the sphere function. Recall that the minima of this function can be located at `f(0,0..,0)` with a value of `0`. In case you don't remember the characteristics of a given function, simply call `help(<function>)`."
   ]
  },
  {
   "cell_type": "markdown",
   "metadata": {},
   "source": [
    "For now let's just set some arbitrary parameters in our optimizers. There are, at minimum, three steps to perform optimization:\n",
    "\n",
    "1. Set the hyperparameters to configure the swarm as a `dict`.\n",
    "2. Create an instance of the optimizer by passing the dictionary along with the necessary arguments.\n",
    "3. Call the `optimize()` method and have it store the optimal cost and position in a variable.\n",
    "\n",
    "The `optimize()` method returns a `tuple` of values, one of which includes the optimal cost and position after optimization. You can store it in a single variable and just index the values, or unpack it using several variables at once."
   ]
  },
  {
   "cell_type": "code",
   "execution_count": 2,
   "metadata": {},
   "outputs": [
    {
     "name": "stderr",
     "output_type": "stream",
     "text": [
      "2022-06-15 20:30:29,083 - pyswarms.single.global_best - INFO - Optimize for 1000 iters with {'c1': 0.5, 'c2': 0.3, 'w': 0.9}\n",
      "pyswarms.single.global_best: 100%|██████████|1000/1000, best_cost=2.11e-44\n",
      "2022-06-15 20:30:30,741 - pyswarms.single.global_best - INFO - Optimization finished | best cost: 2.113549046343125e-44, best pos: [ 4.27475005e-24 -1.45317642e-22]\n"
     ]
    },
    {
     "name": "stdout",
     "output_type": "stream",
     "text": [
      "CPU times: user 1.58 s, sys: 690 ms, total: 2.27 s\n",
      "Wall time: 1.67 s\n"
     ]
    }
   ],
   "source": [
    "%%time\n",
    "# Set-up hyperparameters\n",
    "options = {'c1': 0.5, 'c2': 0.3, 'w':0.9}\n",
    "\n",
    "# Call instance of PSO\n",
    "optimizer = ps.single.GlobalBestPSO(n_particles=10, dimensions=2, options=options)\n",
    "\n",
    "# Perform optimization\n",
    "cost, pos = optimizer.optimize(fx.sphere, iters=1000)"
   ]
  },
  {
   "cell_type": "markdown",
   "metadata": {},
   "source": [
    "We can see that the optimizer was able to find a good minima as shown above. You can control the verbosity of the output using the `verbose` argument, and the number of steps to be printed out using the `print_step` argument."
   ]
  },
  {
   "cell_type": "markdown",
   "metadata": {},
   "source": [
    "Now, let's try this one using local-best PSO:"
   ]
  },
  {
   "cell_type": "code",
   "execution_count": 3,
   "metadata": {},
   "outputs": [
    {
     "name": "stderr",
     "output_type": "stream",
     "text": [
      "2022-06-15 20:30:32,269 - pyswarms.single.local_best - INFO - Optimize for 1000 iters with {'c1': 0.5, 'c2': 0.3, 'w': 0.9, 'k': 2, 'p': 2}\n",
      "pyswarms.single.local_best: 100%|██████████|1000/1000, best_cost=7.47e-41\n",
      "2022-06-15 20:30:34,533 - pyswarms.single.local_best - INFO - Optimization finished | best cost: 7.468717233493547e-41, best pos: [ 2.48289631e-21 -8.27782569e-21]\n"
     ]
    },
    {
     "name": "stdout",
     "output_type": "stream",
     "text": [
      "CPU times: user 2.36 s, sys: 741 ms, total: 3.1 s\n",
      "Wall time: 2.28 s\n"
     ]
    }
   ],
   "source": [
    "%%time\n",
    "# Set-up hyperparameters\n",
    "options = {'c1': 0.5, 'c2': 0.3, 'w':0.9, 'k': 2, 'p': 2}\n",
    "\n",
    "# Call instance of PSO\n",
    "optimizer = ps.single.LocalBestPSO(n_particles=10, dimensions=2, options=options)\n",
    "\n",
    "# Perform optimization\n",
    "cost, pos = optimizer.optimize(fx.sphere, iters=1000)"
   ]
  },
  {
   "cell_type": "markdown",
   "metadata": {},
   "source": [
    "## Optimizing a function with bounds\n",
    "Another thing that we can do is to set some bounds into our solution, so as to contain our candidate solutions within a specific range. We can do this simply by passing a `bounds` parameter, of type `tuple`, when creating an instance of our swarm. Let's try this using the global-best PSO with the Rastrigin function (`rastrigin` in `pyswarms.utils.functions.single_obj`)."
   ]
  },
  {
   "cell_type": "markdown",
   "metadata": {},
   "source": [
    "Recall that the Rastrigin function is bounded within `[-5.12, 5.12]`. If we pass an unbounded swarm into this function, then a `ValueError` might be raised. So what we'll do is to create a bound within the specified range. There are some things to remember when specifying a bound:\n",
    "\n",
    "* A bound should be of type tuple with length 2. \n",
    "* It should contain two `numpy.ndarrays` so that we have a `(min_bound, max_bound)`\n",
    "* Obviously, all values in the `max_bound` should always be greater than the `min_bound`. Their shapes should match the dimensions of the swarm."
   ]
  },
  {
   "cell_type": "markdown",
   "metadata": {},
   "source": [
    "What we'll do now is to create a 10-particle, 2-dimensional swarm. This means that we have to set our maximum and minimum boundaries with the shape of 2. In case we want to initialize an n-dimensional swarm, we then have to set our bounds with the same shape n. A fast workaround for this would be to use the `numpy.ones` function multiplied by a constant."
   ]
  },
  {
   "cell_type": "code",
   "execution_count": 4,
   "metadata": {},
   "outputs": [],
   "source": [
    "# Create bounds\n",
    "max_bound = 5.12 * np.ones(2)\n",
    "min_bound = - max_bound\n",
    "bounds = (min_bound, max_bound)"
   ]
  },
  {
   "cell_type": "code",
   "execution_count": 5,
   "metadata": {},
   "outputs": [
    {
     "name": "stderr",
     "output_type": "stream",
     "text": [
      "2022-06-15 20:30:38,419 - pyswarms.single.global_best - INFO - Optimize for 1000 iters with {'c1': 0.5, 'c2': 0.3, 'w': 0.9}\n",
      "pyswarms.single.global_best: 100%|██████████|1000/1000, best_cost=0      \n",
      "2022-06-15 20:30:40,267 - pyswarms.single.global_best - INFO - Optimization finished | best cost: 0.0, best pos: [-2.90016642e-09 -9.57646361e-10]\n"
     ]
    },
    {
     "name": "stdout",
     "output_type": "stream",
     "text": [
      "CPU times: user 1.96 s, sys: 628 ms, total: 2.59 s\n",
      "Wall time: 1.89 s\n"
     ]
    }
   ],
   "source": [
    "%%time\n",
    "# Initialize swarm\n",
    "options = {'c1': 0.5, 'c2': 0.3, 'w':0.9}\n",
    "\n",
    "# Call instance of PSO with bounds argument\n",
    "optimizer = ps.single.GlobalBestPSO(n_particles=10, dimensions=2, options=options, bounds=bounds)\n",
    "\n",
    "# Perform optimization\n",
    "cost, pos = optimizer.optimize(fx.rastrigin, iters=1000)"
   ]
  },
  {
   "cell_type": "markdown",
   "metadata": {},
   "source": [
    "## Basic Optimization with Arguments"
   ]
  },
  {
   "cell_type": "markdown",
   "metadata": {},
   "source": [
    "Here, we will run a basic optimization using an objective function that needs parameterization.  We will use the ``single.GBestPSO`` and a version of the rosenbrock function to demonstrate"
   ]
  },
  {
   "cell_type": "code",
   "execution_count": 6,
   "metadata": {},
   "outputs": [],
   "source": [
    "# import modules\n",
    "import numpy as np\n",
    "\n",
    "# create a parameterized version of the classic Rosenbrock unconstrained optimzation function\n",
    "def rosenbrock_with_args(x, a, b, c=0):\n",
    "    f = (a - x[:, 0]) ** 2 + b * (x[:, 1] - x[:, 0] ** 2) ** 2 + c\n",
    "    return f"
   ]
  },
  {
   "cell_type": "markdown",
   "metadata": {},
   "source": [
    "### Using Arguments"
   ]
  },
  {
   "cell_type": "markdown",
   "metadata": {},
   "source": [
    "Arguments can either be passed in using a tuple or a dictionary, using the ``kwargs={}`` paradigm. First lets optimize the Rosenbrock function using keyword arguments.  Note in the definition of the Rosenbrock function above, there were two arguments that need to be passed other than the design variables, and one optional keyword argument, ``a``, ``b``, and ``c``, respectively"
   ]
  },
  {
   "cell_type": "code",
   "execution_count": 7,
   "metadata": {},
   "outputs": [
    {
     "name": "stderr",
     "output_type": "stream",
     "text": [
      "2022-06-15 20:30:43,771 - pyswarms.single.global_best - INFO - Optimize for 1000 iters with {'c1': 0.5, 'c2': 0.3, 'w': 0.9}\n",
      "pyswarms.single.global_best: 100%|██████████|1000/1000, best_cost=1.67e-22\n",
      "2022-06-15 20:30:46,380 - pyswarms.single.global_best - INFO - Optimization finished | best cost: 1.6717623626876796e-22, best pos: [1. 1.]\n"
     ]
    }
   ],
   "source": [
    "from pyswarms.single.global_best import GlobalBestPSO\n",
    "\n",
    "# instatiate the optimizer\n",
    "x_max = 10 * np.ones(2)\n",
    "x_min = -1 * x_max\n",
    "bounds = (x_min, x_max)\n",
    "options = {'c1': 0.5, 'c2': 0.3, 'w': 0.9}\n",
    "optimizer = GlobalBestPSO(n_particles=10, dimensions=2, options=options, bounds=bounds)\n",
    "\n",
    "# now run the optimization, pass a=1 and b=100 as a tuple assigned to args\n",
    "\n",
    "cost, pos = optimizer.optimize(rosenbrock_with_args, 1000, a=1, b=100, c=0)"
   ]
  },
  {
   "cell_type": "markdown",
   "metadata": {},
   "source": [
    "It is also possible to pass a dictionary of key word arguments by using ``**`` decorator when passing the dict"
   ]
  },
  {
   "cell_type": "code",
   "execution_count": 8,
   "metadata": {},
   "outputs": [
    {
     "name": "stderr",
     "output_type": "stream",
     "text": [
      "2022-06-15 20:30:49,187 - pyswarms.single.global_best - INFO - Optimize for 1000 iters with {'c1': 0.5, 'c2': 0.3, 'w': 0.9}\n",
      "pyswarms.single.global_best: 100%|██████████|1000/1000, best_cost=7.89e-31\n",
      "2022-06-15 20:30:51,293 - pyswarms.single.global_best - INFO - Optimization finished | best cost: 7.888609052210118e-31, best pos: [1. 1.]\n"
     ]
    }
   ],
   "source": [
    "kwargs={\"a\": 1.0, \"b\": 100.0, 'c':0}\n",
    "cost, pos = optimizer.optimize(rosenbrock_with_args, 1000, **kwargs)"
   ]
  },
  {
   "cell_type": "markdown",
   "metadata": {},
   "source": [
    "Any key word arguments in the objective function can be left out as they will be passed the default as defined in the prototype. Note here, ``c`` is not passed into the function."
   ]
  },
  {
   "cell_type": "code",
   "execution_count": 9,
   "metadata": {},
   "outputs": [
    {
     "name": "stderr",
     "output_type": "stream",
     "text": [
      "2022-06-15 20:30:57,250 - pyswarms.single.global_best - INFO - Optimize for 1000 iters with {'c1': 0.5, 'c2': 0.3, 'w': 0.9}\n",
      "pyswarms.single.global_best: 100%|██████████|1000/1000, best_cost=7.89e-31\n",
      "2022-06-15 20:30:59,256 - pyswarms.single.global_best - INFO - Optimization finished | best cost: 7.888609052210118e-31, best pos: [1. 1.]\n"
     ]
    }
   ],
   "source": [
    "cost, pos = optimizer.optimize(rosenbrock_with_args, 1000, a=1, b=100)"
   ]
  },
  {
   "cell_type": "markdown",
   "metadata": {},
   "source": [
    "### Modifying reporter at iterations"
   ]
  },
  {
   "cell_type": "code",
   "execution_count": 12,
   "metadata": {},
   "outputs": [],
   "source": [
    "def reporter_callback(swarm, reporter):\n",
    "    \"A custom callback function\"\n",
    "    reporter.hook(swarm=swarm) #add the default behaviour (postfix to tqdm)\n",
    "    print('Best position:', swarm.best_pos)\n",
    "    return\n",
    "\n",
    "# Create bounds\n",
    "max_bound = 5.12 * np.ones(2)\n",
    "min_bound = - max_bound\n",
    "bounds = (min_bound, max_bound)"
   ]
  },
  {
   "cell_type": "code",
   "execution_count": 13,
   "metadata": {},
   "outputs": [
    {
     "name": "stderr",
     "output_type": "stream",
     "text": [
      "2022-06-15 20:32:31,697 - pyswarms.single.global_best - INFO - Optimize for 10 iters with {'c1': 0.5, 'c2': 0.3, 'w': 0.9}\n",
      "pyswarms.single.global_best: 100%|██████████|10/10, best_cost=0.424\n",
      "2022-06-15 20:32:31,717 - pyswarms.single.global_best - INFO - Optimization finished | best cost: 0.4237618526034055, best pos: [-0.03887785  0.02516484]\n"
     ]
    },
    {
     "name": "stdout",
     "output_type": "stream",
     "text": [
      "Best position: [1.8470209 3.1831133]\n",
      "Best position: [0.9647154  0.67466656]\n",
      "Best position: [-0.80333013  0.03822154]\n",
      "Best position: [-0.80333013  0.03822154]\n",
      "Best position: [0.89995086 0.89942345]\n",
      "Best position: [0.89995086 0.89942345]\n",
      "Best position: [0.89995086 0.89942345]\n",
      "Best position: [0.89995086 0.89942345]\n",
      "Best position: [-0.03887785  0.02516484]\n",
      "Best position: [-0.03887785  0.02516484]\n",
      "CPU times: user 24.1 ms, sys: 12 ms, total: 36.2 ms\n",
      "Wall time: 26 ms\n"
     ]
    }
   ],
   "source": [
    "%%time\n",
    "# Initialize swarm\n",
    "options = {'c1': 0.5, 'c2': 0.3, 'w':0.9}\n",
    "\n",
    "# Call instance of PSO with bounds argument\n",
    "optimizer = ps.single.GlobalBestPSO(\n",
    "    n_particles=10, \n",
    "    dimensions=2, \n",
    "    options=options, \n",
    "    bounds=bounds,\n",
    "    reporter_callback=reporter_callback,\n",
    ")\n",
    "\n",
    "# Perform optimization\n",
    "cost, pos = optimizer.optimize(fx.rastrigin, iters=10)\n"
   ]
  },
  {
   "cell_type": "code",
   "execution_count": null,
   "metadata": {},
   "outputs": [],
   "source": []
  }
 ],
 "metadata": {
  "anaconda-cloud": {},
  "interpreter": {
   "hash": "f513a0bf0d27faed0401583855d8d7225d1dab65dd440ea970d3f25fb025c381"
  },
  "kernelspec": {
   "display_name": "Python 3.9.7 ('base')",
   "language": "python",
   "name": "python3"
  },
  "language_info": {
   "codemirror_mode": {
    "name": "ipython",
    "version": 3
   },
   "file_extension": ".py",
   "mimetype": "text/x-python",
   "name": "python",
   "nbconvert_exporter": "python",
   "pygments_lexer": "ipython3",
   "version": "3.9.7"
  }
 },
 "nbformat": 4,
 "nbformat_minor": 1
}
